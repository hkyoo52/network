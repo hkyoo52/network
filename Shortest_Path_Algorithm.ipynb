{
  "nbformat": 4,
  "nbformat_minor": 0,
  "metadata": {
    "colab": {
      "name": "Shortest Path Algorithm",
      "provenance": [],
      "authorship_tag": "ABX9TyPwO4GKWVYNaDPapK9m0a6P",
      "include_colab_link": true
    },
    "kernelspec": {
      "name": "python3",
      "display_name": "Python 3"
    },
    "language_info": {
      "name": "python"
    }
  },
  "cells": [
    {
      "cell_type": "markdown",
      "metadata": {
        "id": "view-in-github",
        "colab_type": "text"
      },
      "source": [
        "<a href=\"https://colab.research.google.com/github/hkyoo52/network/blob/main/Shortest_Path_Algorithm.ipynb\" target=\"_parent\"><img src=\"https://colab.research.google.com/assets/colab-badge.svg\" alt=\"Open In Colab\"/></a>"
      ]
    },
    {
      "cell_type": "code",
      "metadata": {
        "id": "YAR-3gbL6AzS"
      },
      "source": [
        "#A:0, B:1, C:2, D:3, E:4, F:5, G:6, H:7\n",
        "\n",
        "from collections import deque\n",
        "\n",
        "inf=1e9\n",
        "[AB,AG,BC,BE,CD,CF,DH,EF,EG,FH,GH]=[2,6,7,2,3,3,2,2,1,2,4]\n",
        "#[AB,AG,BC,BE,CD,CF,DH,EF,EG,FH,GH]=[random.randint(1,6) for i in range(11)]\n",
        "mapping=[[0,AB,inf,inf,inf,inf,AG,inf],[AB,0,BC,inf,BE,inf,inf,inf],[inf,BC,0,CD,inf,CF,inf,inf],[inf,inf,CD,0,inf,inf,inf,DH],\n",
        "         [inf,BE,inf,inf,0,EF,EG,inf],[inf,inf,CF,inf,EF,0,inf,FH],[AG,inf,inf,inf,EG,inf,0,GH],[inf,inf,inf,DH,inf,FH,GH,0]]\n",
        "final_distance=[inf for i in range(8)]\n",
        "final_distance[0]=0\n",
        "path=[[] for i in range(8)]\n",
        "path[0].append(0)\n"
      ],
      "execution_count": null,
      "outputs": []
    },
    {
      "cell_type": "code",
      "metadata": {
        "id": "KcYxPMsq1H5n"
      },
      "source": [
        "def change_name(num):\n",
        "  if num==0:\n",
        "    return 'A'\n",
        "  elif num==1:\n",
        "    return 'B'\n",
        "  elif num==2:\n",
        "    return 'C'\n",
        "  if num==3:\n",
        "    return 'D'\n",
        "  elif num==4:\n",
        "    return 'E'\n",
        "  elif num==5:\n",
        "    return 'F'\n",
        "  elif num==6:\n",
        "    return 'G'\n",
        "  else:\n",
        "    return 'H'"
      ],
      "execution_count": null,
      "outputs": []
    },
    {
      "cell_type": "code",
      "metadata": {
        "colab": {
          "base_uri": "https://localhost:8080/"
        },
        "id": "rkRX-JDRppo1",
        "outputId": "772b01cf-69d9-4799-f3a0-1325fadf7b45"
      },
      "source": [
        "def find_path(map,final_distance,path):\n",
        "  queue=deque([0])\n",
        "  while queue:\n",
        "    current=queue.popleft()\n",
        "    for i in range(8):\n",
        "      if map[current][i]>0 and  map[current][i]<inf and final_distance[i] > final_distance[current]+map[current][i]:\n",
        "        queue.append(i)\n",
        "        final_distance[i]=final_distance[current]+map[current][i]\n",
        "        path[i]=path[current][:]\n",
        "        path[i].append(i)\n",
        "\n",
        "  return final_distance[3], path[3]\n",
        "\n",
        "\n",
        "\n",
        "anw=find_path(mapping,final_distance,path)\n",
        "last_path=list(map(change_name,anw[1]))\n",
        "print('최종 길이 : {}, 가는 경로 : {}'.format(anw[0],last_path))"
      ],
      "execution_count": null,
      "outputs": [
        {
          "output_type": "stream",
          "name": "stdout",
          "text": [
            "최종 길이 : 10, 가는 경로 : ['A', 'B', 'E', 'F', 'H', 'D']\n"
          ]
        }
      ]
    }
  ]
}